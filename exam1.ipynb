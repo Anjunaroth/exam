{
 "cells": [
  {
   "cell_type": "code",
   "execution_count": 1,
   "id": "cd0b0059",
   "metadata": {},
   "outputs": [],
   "source": [
    "import pandas as pd\n",
    "import numpy as np\n",
    "import matplotlib.pyplot as plt\n",
    "import seaborn as sns"
   ]
  },
  {
   "cell_type": "code",
   "execution_count": 2,
   "id": "83a681ae",
   "metadata": {},
   "outputs": [],
   "source": [
    "#loading the dataset\n",
    "train=pd.read_csv(r'C:\\Users\\vysha\\Downloads\\06a5b7de55d811ed\\dataset\\train.csv')\n",
    "test=pd.read_csv(r'C:\\Users\\vysha\\Downloads\\06a5b7de55d811ed\\dataset\\test.csv')"
   ]
  },
  {
   "cell_type": "code",
   "execution_count": 3,
   "id": "a8f669e5",
   "metadata": {},
   "outputs": [
    {
     "data": {
      "text/html": [
       "<div>\n",
       "<style scoped>\n",
       "    .dataframe tbody tr th:only-of-type {\n",
       "        vertical-align: middle;\n",
       "    }\n",
       "\n",
       "    .dataframe tbody tr th {\n",
       "        vertical-align: top;\n",
       "    }\n",
       "\n",
       "    .dataframe thead th {\n",
       "        text-align: right;\n",
       "    }\n",
       "</style>\n",
       "<table border=\"1\" class=\"dataframe\">\n",
       "  <thead>\n",
       "    <tr style=\"text-align: right;\">\n",
       "      <th></th>\n",
       "      <th>ID</th>\n",
       "      <th>Place</th>\n",
       "      <th>location</th>\n",
       "      <th>date</th>\n",
       "      <th>status</th>\n",
       "      <th>job_title</th>\n",
       "      <th>summary</th>\n",
       "      <th>positives</th>\n",
       "      <th>negatives</th>\n",
       "      <th>advice_to_mgmt</th>\n",
       "      <th>score_1</th>\n",
       "      <th>score_2</th>\n",
       "      <th>score_3</th>\n",
       "      <th>score_4</th>\n",
       "      <th>score_5</th>\n",
       "      <th>score_6</th>\n",
       "      <th>overall</th>\n",
       "    </tr>\n",
       "  </thead>\n",
       "  <tbody>\n",
       "    <tr>\n",
       "      <th>0</th>\n",
       "      <td>25355</td>\n",
       "      <td>startup_4</td>\n",
       "      <td>Iaşi (Romania)</td>\n",
       "      <td>Dec 9, 2018</td>\n",
       "      <td>Current Employee</td>\n",
       "      <td>SDE1</td>\n",
       "      <td>SDE overview</td>\n",
       "      <td>Great impact. Professional people. Chance to s...</td>\n",
       "      <td>You should be on-call according to a team rota...</td>\n",
       "      <td>None.</td>\n",
       "      <td>3.0</td>\n",
       "      <td>5.0</td>\n",
       "      <td>4.0</td>\n",
       "      <td>5.0</td>\n",
       "      <td>4.0</td>\n",
       "      <td>0</td>\n",
       "      <td>3.0</td>\n",
       "    </tr>\n",
       "    <tr>\n",
       "      <th>1</th>\n",
       "      <td>66963</td>\n",
       "      <td>startup_6</td>\n",
       "      <td>NaN</td>\n",
       "      <td>May 21, 2012</td>\n",
       "      <td>Current Employee</td>\n",
       "      <td>Sales Director</td>\n",
       "      <td>Experience over 17 years has been very mixed -...</td>\n",
       "      <td>one of the best reasons to work at Microsoft i...</td>\n",
       "      <td>Microsoft has become a highly political org wi...</td>\n",
       "      <td>Take a deep, hard look at the advertising org....</td>\n",
       "      <td>3.5</td>\n",
       "      <td>NaN</td>\n",
       "      <td>3.5</td>\n",
       "      <td>4.0</td>\n",
       "      <td>1.0</td>\n",
       "      <td>4</td>\n",
       "      <td>3.0</td>\n",
       "    </tr>\n",
       "    <tr>\n",
       "      <th>2</th>\n",
       "      <td>50981</td>\n",
       "      <td>startup_6</td>\n",
       "      <td>NaN</td>\n",
       "      <td>Oct 12, 2017</td>\n",
       "      <td>Current Employee</td>\n",
       "      <td>Anonymous Employee</td>\n",
       "      <td>Lots of shiny surface, little depth</td>\n",
       "      <td>Benefits and salary are relatively competitive</td>\n",
       "      <td>Microsoft is getting in its own way of success...</td>\n",
       "      <td>Need to deliver beyond the empty words that cu...</td>\n",
       "      <td>2.0</td>\n",
       "      <td>1.0</td>\n",
       "      <td>3.0</td>\n",
       "      <td>4.0</td>\n",
       "      <td>1.0</td>\n",
       "      <td>0</td>\n",
       "      <td>3.0</td>\n",
       "    </tr>\n",
       "    <tr>\n",
       "      <th>3</th>\n",
       "      <td>65337</td>\n",
       "      <td>startup_6</td>\n",
       "      <td>Vancouver, BC (Canada)</td>\n",
       "      <td>May 7, 2015</td>\n",
       "      <td>Former Employee</td>\n",
       "      <td>Finance Intern</td>\n",
       "      <td>MAP Intern</td>\n",
       "      <td>the MAP program at Microsoft is one of the bes...</td>\n",
       "      <td>No cons to report whatsoever</td>\n",
       "      <td>keep doing what you're doing</td>\n",
       "      <td>4.0</td>\n",
       "      <td>4.0</td>\n",
       "      <td>5.0</td>\n",
       "      <td>4.0</td>\n",
       "      <td>4.0</td>\n",
       "      <td>0</td>\n",
       "      <td>3.0</td>\n",
       "    </tr>\n",
       "    <tr>\n",
       "      <th>4</th>\n",
       "      <td>38342</td>\n",
       "      <td>startup_2</td>\n",
       "      <td>New York, NY</td>\n",
       "      <td>Oct 9, 2017</td>\n",
       "      <td>Current Employee</td>\n",
       "      <td>Senior Software Engineer</td>\n",
       "      <td>Dear Apple</td>\n",
       "      <td>Supportive environment, and great food.</td>\n",
       "      <td>Lack of proximity to some low-end restaurants.</td>\n",
       "      <td>Keep it up!</td>\n",
       "      <td>5.0</td>\n",
       "      <td>5.0</td>\n",
       "      <td>5.0</td>\n",
       "      <td>5.0</td>\n",
       "      <td>5.0</td>\n",
       "      <td>0</td>\n",
       "      <td>3.0</td>\n",
       "    </tr>\n",
       "  </tbody>\n",
       "</table>\n",
       "</div>"
      ],
      "text/plain": [
       "      ID      Place                location           date             status  \\\n",
       "0  25355  startup_4          Iaşi (Romania)    Dec 9, 2018  Current Employee    \n",
       "1  66963  startup_6                     NaN   May 21, 2012  Current Employee    \n",
       "2  50981  startup_6                     NaN   Oct 12, 2017  Current Employee    \n",
       "3  65337  startup_6  Vancouver, BC (Canada)    May 7, 2015   Former Employee    \n",
       "4  38342  startup_2            New York, NY    Oct 9, 2017  Current Employee    \n",
       "\n",
       "                   job_title  \\\n",
       "0                       SDE1   \n",
       "1             Sales Director   \n",
       "2         Anonymous Employee   \n",
       "3             Finance Intern   \n",
       "4   Senior Software Engineer   \n",
       "\n",
       "                                             summary  \\\n",
       "0                                       SDE overview   \n",
       "1  Experience over 17 years has been very mixed -...   \n",
       "2                Lots of shiny surface, little depth   \n",
       "3                                         MAP Intern   \n",
       "4                                         Dear Apple   \n",
       "\n",
       "                                           positives  \\\n",
       "0  Great impact. Professional people. Chance to s...   \n",
       "1  one of the best reasons to work at Microsoft i...   \n",
       "2     Benefits and salary are relatively competitive   \n",
       "3  the MAP program at Microsoft is one of the bes...   \n",
       "4            Supportive environment, and great food.   \n",
       "\n",
       "                                           negatives  \\\n",
       "0  You should be on-call according to a team rota...   \n",
       "1  Microsoft has become a highly political org wi...   \n",
       "2  Microsoft is getting in its own way of success...   \n",
       "3                       No cons to report whatsoever   \n",
       "4     Lack of proximity to some low-end restaurants.   \n",
       "\n",
       "                                      advice_to_mgmt  score_1  score_2  \\\n",
       "0                                              None.      3.0      5.0   \n",
       "1  Take a deep, hard look at the advertising org....      3.5      NaN   \n",
       "2  Need to deliver beyond the empty words that cu...      2.0      1.0   \n",
       "3                       keep doing what you're doing      4.0      4.0   \n",
       "4                                        Keep it up!      5.0      5.0   \n",
       "\n",
       "   score_3  score_4  score_5  score_6  overall  \n",
       "0      4.0      5.0      4.0        0      3.0  \n",
       "1      3.5      4.0      1.0        4      3.0  \n",
       "2      3.0      4.0      1.0        0      3.0  \n",
       "3      5.0      4.0      4.0        0      3.0  \n",
       "4      5.0      5.0      5.0        0      3.0  "
      ]
     },
     "execution_count": 3,
     "metadata": {},
     "output_type": "execute_result"
    }
   ],
   "source": [
    "train.head()"
   ]
  },
  {
   "cell_type": "code",
   "execution_count": 4,
   "id": "4c8d8604",
   "metadata": {},
   "outputs": [
    {
     "data": {
      "text/plain": [
       "(24268, 17)"
      ]
     },
     "execution_count": 4,
     "metadata": {},
     "output_type": "execute_result"
    }
   ],
   "source": [
    "train.shape"
   ]
  },
  {
   "cell_type": "code",
   "execution_count": 5,
   "id": "5fccf6be",
   "metadata": {},
   "outputs": [
    {
     "data": {
      "text/plain": [
       "Index(['ID', 'Place', 'location', 'date', 'status', 'job_title', 'summary',\n",
       "       'positives', 'negatives', 'advice_to_mgmt', 'score_1', 'score_2',\n",
       "       'score_3', 'score_4', 'score_5', 'score_6', 'overall'],\n",
       "      dtype='object')"
      ]
     },
     "execution_count": 5,
     "metadata": {},
     "output_type": "execute_result"
    }
   ],
   "source": [
    "train.columns"
   ]
  },
  {
   "cell_type": "code",
   "execution_count": 6,
   "id": "c4540914",
   "metadata": {},
   "outputs": [
    {
     "data": {
      "text/plain": [
       "RangeIndex(start=0, stop=24268, step=1)"
      ]
     },
     "execution_count": 6,
     "metadata": {},
     "output_type": "execute_result"
    }
   ],
   "source": [
    "train.index"
   ]
  },
  {
   "cell_type": "code",
   "execution_count": 7,
   "id": "92d98c70",
   "metadata": {},
   "outputs": [
    {
     "name": "stdout",
     "output_type": "stream",
     "text": [
      "<class 'pandas.core.frame.DataFrame'>\n",
      "RangeIndex: 24268 entries, 0 to 24267\n",
      "Data columns (total 17 columns):\n",
      " #   Column          Non-Null Count  Dtype  \n",
      "---  ------          --------------  -----  \n",
      " 0   ID              24268 non-null  int64  \n",
      " 1   Place           24268 non-null  object \n",
      " 2   location        15336 non-null  object \n",
      " 3   date            24268 non-null  object \n",
      " 4   status          24268 non-null  object \n",
      " 5   job_title       24268 non-null  object \n",
      " 6   summary         24232 non-null  object \n",
      " 7   positives       24268 non-null  object \n",
      " 8   negatives       24268 non-null  object \n",
      " 9   advice_to_mgmt  13626 non-null  object \n",
      " 10  score_1         21711 non-null  float64\n",
      " 11  score_2         19383 non-null  float64\n",
      " 12  score_3         21722 non-null  float64\n",
      " 13  score_4         21709 non-null  float64\n",
      " 14  score_5         21467 non-null  float64\n",
      " 15  score_6         24268 non-null  int64  \n",
      " 16  overall         24268 non-null  float64\n",
      "dtypes: float64(6), int64(2), object(9)\n",
      "memory usage: 3.1+ MB\n"
     ]
    }
   ],
   "source": [
    "train.info()"
   ]
  },
  {
   "cell_type": "code",
   "execution_count": 8,
   "id": "d62de352",
   "metadata": {},
   "outputs": [
    {
     "data": {
      "text/plain": [
       "ID                    0\n",
       "Place                 0\n",
       "location           8932\n",
       "date                  0\n",
       "status                0\n",
       "job_title             0\n",
       "summary              36\n",
       "positives             0\n",
       "negatives             0\n",
       "advice_to_mgmt    10642\n",
       "score_1            2557\n",
       "score_2            4885\n",
       "score_3            2546\n",
       "score_4            2559\n",
       "score_5            2801\n",
       "score_6               0\n",
       "overall               0\n",
       "dtype: int64"
      ]
     },
     "execution_count": 8,
     "metadata": {},
     "output_type": "execute_result"
    }
   ],
   "source": [
    "train.isna().sum()"
   ]
  },
  {
   "cell_type": "code",
   "execution_count": 9,
   "id": "6ebc0b44",
   "metadata": {},
   "outputs": [
    {
     "data": {
      "text/html": [
       "<div>\n",
       "<style scoped>\n",
       "    .dataframe tbody tr th:only-of-type {\n",
       "        vertical-align: middle;\n",
       "    }\n",
       "\n",
       "    .dataframe tbody tr th {\n",
       "        vertical-align: top;\n",
       "    }\n",
       "\n",
       "    .dataframe thead th {\n",
       "        text-align: right;\n",
       "    }\n",
       "</style>\n",
       "<table border=\"1\" class=\"dataframe\">\n",
       "  <thead>\n",
       "    <tr style=\"text-align: right;\">\n",
       "      <th></th>\n",
       "      <th>ID</th>\n",
       "      <th>score_1</th>\n",
       "      <th>score_2</th>\n",
       "      <th>score_3</th>\n",
       "      <th>score_4</th>\n",
       "      <th>score_5</th>\n",
       "      <th>score_6</th>\n",
       "      <th>overall</th>\n",
       "    </tr>\n",
       "  </thead>\n",
       "  <tbody>\n",
       "    <tr>\n",
       "      <th>count</th>\n",
       "      <td>24268.000000</td>\n",
       "      <td>21711.000000</td>\n",
       "      <td>19383.000000</td>\n",
       "      <td>21722.000000</td>\n",
       "      <td>21709.000000</td>\n",
       "      <td>21467.000000</td>\n",
       "      <td>24268.000000</td>\n",
       "      <td>24268.000000</td>\n",
       "    </tr>\n",
       "    <tr>\n",
       "      <th>mean</th>\n",
       "      <td>33999.512692</td>\n",
       "      <td>3.369237</td>\n",
       "      <td>3.781871</td>\n",
       "      <td>3.625587</td>\n",
       "      <td>3.938735</td>\n",
       "      <td>3.320562</td>\n",
       "      <td>1.349596</td>\n",
       "      <td>3.582743</td>\n",
       "    </tr>\n",
       "    <tr>\n",
       "      <th>std</th>\n",
       "      <td>19540.523891</td>\n",
       "      <td>1.301653</td>\n",
       "      <td>1.300757</td>\n",
       "      <td>1.226452</td>\n",
       "      <td>1.043806</td>\n",
       "      <td>1.313312</td>\n",
       "      <td>20.243488</td>\n",
       "      <td>1.001315</td>\n",
       "    </tr>\n",
       "    <tr>\n",
       "      <th>min</th>\n",
       "      <td>1.000000</td>\n",
       "      <td>1.000000</td>\n",
       "      <td>1.000000</td>\n",
       "      <td>1.000000</td>\n",
       "      <td>1.000000</td>\n",
       "      <td>1.000000</td>\n",
       "      <td>0.000000</td>\n",
       "      <td>1.000000</td>\n",
       "    </tr>\n",
       "    <tr>\n",
       "      <th>25%</th>\n",
       "      <td>17104.250000</td>\n",
       "      <td>2.000000</td>\n",
       "      <td>3.000000</td>\n",
       "      <td>3.000000</td>\n",
       "      <td>3.000000</td>\n",
       "      <td>2.000000</td>\n",
       "      <td>0.000000</td>\n",
       "      <td>3.000000</td>\n",
       "    </tr>\n",
       "    <tr>\n",
       "      <th>50%</th>\n",
       "      <td>34245.500000</td>\n",
       "      <td>3.500000</td>\n",
       "      <td>4.000000</td>\n",
       "      <td>4.000000</td>\n",
       "      <td>4.000000</td>\n",
       "      <td>3.000000</td>\n",
       "      <td>0.000000</td>\n",
       "      <td>4.000000</td>\n",
       "    </tr>\n",
       "    <tr>\n",
       "      <th>75%</th>\n",
       "      <td>50842.500000</td>\n",
       "      <td>4.000000</td>\n",
       "      <td>5.000000</td>\n",
       "      <td>5.000000</td>\n",
       "      <td>5.000000</td>\n",
       "      <td>4.000000</td>\n",
       "      <td>1.000000</td>\n",
       "      <td>4.000000</td>\n",
       "    </tr>\n",
       "    <tr>\n",
       "      <th>max</th>\n",
       "      <td>67528.000000</td>\n",
       "      <td>5.000000</td>\n",
       "      <td>5.000000</td>\n",
       "      <td>5.000000</td>\n",
       "      <td>5.000000</td>\n",
       "      <td>5.000000</td>\n",
       "      <td>2094.000000</td>\n",
       "      <td>5.000000</td>\n",
       "    </tr>\n",
       "  </tbody>\n",
       "</table>\n",
       "</div>"
      ],
      "text/plain": [
       "                 ID       score_1       score_2       score_3       score_4  \\\n",
       "count  24268.000000  21711.000000  19383.000000  21722.000000  21709.000000   \n",
       "mean   33999.512692      3.369237      3.781871      3.625587      3.938735   \n",
       "std    19540.523891      1.301653      1.300757      1.226452      1.043806   \n",
       "min        1.000000      1.000000      1.000000      1.000000      1.000000   \n",
       "25%    17104.250000      2.000000      3.000000      3.000000      3.000000   \n",
       "50%    34245.500000      3.500000      4.000000      4.000000      4.000000   \n",
       "75%    50842.500000      4.000000      5.000000      5.000000      5.000000   \n",
       "max    67528.000000      5.000000      5.000000      5.000000      5.000000   \n",
       "\n",
       "            score_5       score_6       overall  \n",
       "count  21467.000000  24268.000000  24268.000000  \n",
       "mean       3.320562      1.349596      3.582743  \n",
       "std        1.313312     20.243488      1.001315  \n",
       "min        1.000000      0.000000      1.000000  \n",
       "25%        2.000000      0.000000      3.000000  \n",
       "50%        3.000000      0.000000      4.000000  \n",
       "75%        4.000000      1.000000      4.000000  \n",
       "max        5.000000   2094.000000      5.000000  "
      ]
     },
     "execution_count": 9,
     "metadata": {},
     "output_type": "execute_result"
    }
   ],
   "source": [
    "train.describe()"
   ]
  },
  {
   "cell_type": "code",
   "execution_count": 10,
   "id": "6947ad50",
   "metadata": {},
   "outputs": [
    {
     "data": {
      "text/plain": [
       "ID                24268\n",
       "Place                 6\n",
       "location           1226\n",
       "date               3405\n",
       "status                2\n",
       "job_title          3331\n",
       "summary           16868\n",
       "positives         24042\n",
       "negatives         24063\n",
       "advice_to_mgmt    12908\n",
       "score_1               9\n",
       "score_2               5\n",
       "score_3               9\n",
       "score_4               9\n",
       "score_5               9\n",
       "score_6              64\n",
       "overall               5\n",
       "dtype: int64"
      ]
     },
     "execution_count": 10,
     "metadata": {},
     "output_type": "execute_result"
    }
   ],
   "source": [
    "train.nunique()"
   ]
  },
  {
   "cell_type": "code",
   "execution_count": 11,
   "id": "bc994825",
   "metadata": {},
   "outputs": [
    {
     "data": {
      "text/html": [
       "<div>\n",
       "<style scoped>\n",
       "    .dataframe tbody tr th:only-of-type {\n",
       "        vertical-align: middle;\n",
       "    }\n",
       "\n",
       "    .dataframe tbody tr th {\n",
       "        vertical-align: top;\n",
       "    }\n",
       "\n",
       "    .dataframe thead th {\n",
       "        text-align: right;\n",
       "    }\n",
       "</style>\n",
       "<table border=\"1\" class=\"dataframe\">\n",
       "  <thead>\n",
       "    <tr style=\"text-align: right;\">\n",
       "      <th></th>\n",
       "      <th>ID</th>\n",
       "      <th>Place</th>\n",
       "      <th>location</th>\n",
       "      <th>date</th>\n",
       "      <th>status</th>\n",
       "      <th>job_title</th>\n",
       "      <th>summary</th>\n",
       "      <th>positives</th>\n",
       "      <th>negatives</th>\n",
       "      <th>advice_to_mgmt</th>\n",
       "      <th>score_1</th>\n",
       "      <th>score_2</th>\n",
       "      <th>score_3</th>\n",
       "      <th>score_4</th>\n",
       "      <th>score_5</th>\n",
       "      <th>score_6</th>\n",
       "    </tr>\n",
       "  </thead>\n",
       "  <tbody>\n",
       "    <tr>\n",
       "      <th>0</th>\n",
       "      <td>24788</td>\n",
       "      <td>startup_4</td>\n",
       "      <td>Seattle, WA</td>\n",
       "      <td>Sep 28, 2011</td>\n",
       "      <td>Current Employee</td>\n",
       "      <td>Anonymous Employee</td>\n",
       "      <td>company that likes geeks</td>\n",
       "      <td>Innovative CEO has long term view Great if you...</td>\n",
       "      <td>Work life balance Average pay to non-tech people</td>\n",
       "      <td>NaN</td>\n",
       "      <td>3.0</td>\n",
       "      <td>NaN</td>\n",
       "      <td>3.5</td>\n",
       "      <td>2.5</td>\n",
       "      <td>4.0</td>\n",
       "      <td>3</td>\n",
       "    </tr>\n",
       "    <tr>\n",
       "      <th>1</th>\n",
       "      <td>6607</td>\n",
       "      <td>startup_1</td>\n",
       "      <td>NaN</td>\n",
       "      <td>Nov 9, 2015</td>\n",
       "      <td>Former Employee</td>\n",
       "      <td>Anonymous Employee</td>\n",
       "      <td>Engineer</td>\n",
       "      <td>Great pay, great people. Fun time!</td>\n",
       "      <td>The tacos give you gas.</td>\n",
       "      <td>Keep pushing for innovative ideas, as you alwa...</td>\n",
       "      <td>5.0</td>\n",
       "      <td>5.0</td>\n",
       "      <td>5.0</td>\n",
       "      <td>5.0</td>\n",
       "      <td>5.0</td>\n",
       "      <td>0</td>\n",
       "    </tr>\n",
       "    <tr>\n",
       "      <th>2</th>\n",
       "      <td>13591</td>\n",
       "      <td>startup_4</td>\n",
       "      <td>NaN</td>\n",
       "      <td>Oct 25, 2017</td>\n",
       "      <td>Current Employee</td>\n",
       "      <td>Anonymous Employee</td>\n",
       "      <td>Manager in Amazon Video</td>\n",
       "      <td>Thinking Big, and Customer Centricity</td>\n",
       "      <td>Lack of coherent business strategy / vision th...</td>\n",
       "      <td>NaN</td>\n",
       "      <td>2.0</td>\n",
       "      <td>4.0</td>\n",
       "      <td>4.0</td>\n",
       "      <td>5.0</td>\n",
       "      <td>2.0</td>\n",
       "      <td>0</td>\n",
       "    </tr>\n",
       "    <tr>\n",
       "      <th>3</th>\n",
       "      <td>35601</td>\n",
       "      <td>startup_5</td>\n",
       "      <td>London, England (UK)</td>\n",
       "      <td>Oct 1, 2017</td>\n",
       "      <td>Former Employee</td>\n",
       "      <td>Business Development Manager</td>\n",
       "      <td>Great leadership</td>\n",
       "      <td>Great energy! Flexible enough...good balance. ...</td>\n",
       "      <td>Lot to work on.... Less creative.... Less inte...</td>\n",
       "      <td>NaN</td>\n",
       "      <td>3.0</td>\n",
       "      <td>5.0</td>\n",
       "      <td>4.0</td>\n",
       "      <td>4.0</td>\n",
       "      <td>5.0</td>\n",
       "      <td>0</td>\n",
       "    </tr>\n",
       "    <tr>\n",
       "      <th>4</th>\n",
       "      <td>35466</td>\n",
       "      <td>startup_5</td>\n",
       "      <td>Palo Alto, CA</td>\n",
       "      <td>Oct 13, 2010</td>\n",
       "      <td>Current Employee</td>\n",
       "      <td>Anonymous Employee</td>\n",
       "      <td>Amazing place to work</td>\n",
       "      <td>- Great, innovative company which is in the bu...</td>\n",
       "      <td>Can be a bit chaotic for someone coming form a...</td>\n",
       "      <td>You are doing an awesome job...just don't stop...</td>\n",
       "      <td>5.0</td>\n",
       "      <td>NaN</td>\n",
       "      <td>5.0</td>\n",
       "      <td>5.0</td>\n",
       "      <td>5.0</td>\n",
       "      <td>0</td>\n",
       "    </tr>\n",
       "  </tbody>\n",
       "</table>\n",
       "</div>"
      ],
      "text/plain": [
       "      ID      Place              location           date             status  \\\n",
       "0  24788  startup_4           Seattle, WA   Sep 28, 2011  Current Employee    \n",
       "1   6607  startup_1                   NaN    Nov 9, 2015   Former Employee    \n",
       "2  13591  startup_4                   NaN   Oct 25, 2017  Current Employee    \n",
       "3  35601  startup_5  London, England (UK)    Oct 1, 2017   Former Employee    \n",
       "4  35466  startup_5         Palo Alto, CA   Oct 13, 2010  Current Employee    \n",
       "\n",
       "                       job_title                   summary  \\\n",
       "0             Anonymous Employee  company that likes geeks   \n",
       "1             Anonymous Employee                  Engineer   \n",
       "2             Anonymous Employee   Manager in Amazon Video   \n",
       "3   Business Development Manager          Great leadership   \n",
       "4             Anonymous Employee     Amazing place to work   \n",
       "\n",
       "                                           positives  \\\n",
       "0  Innovative CEO has long term view Great if you...   \n",
       "1                 Great pay, great people. Fun time!   \n",
       "2              Thinking Big, and Customer Centricity   \n",
       "3  Great energy! Flexible enough...good balance. ...   \n",
       "4  - Great, innovative company which is in the bu...   \n",
       "\n",
       "                                           negatives  \\\n",
       "0   Work life balance Average pay to non-tech people   \n",
       "1                            The tacos give you gas.   \n",
       "2  Lack of coherent business strategy / vision th...   \n",
       "3  Lot to work on.... Less creative.... Less inte...   \n",
       "4  Can be a bit chaotic for someone coming form a...   \n",
       "\n",
       "                                      advice_to_mgmt  score_1  score_2  \\\n",
       "0                                                NaN      3.0      NaN   \n",
       "1  Keep pushing for innovative ideas, as you alwa...      5.0      5.0   \n",
       "2                                                NaN      2.0      4.0   \n",
       "3                                                NaN      3.0      5.0   \n",
       "4  You are doing an awesome job...just don't stop...      5.0      NaN   \n",
       "\n",
       "   score_3  score_4  score_5  score_6  \n",
       "0      3.5      2.5      4.0        3  \n",
       "1      5.0      5.0      5.0        0  \n",
       "2      4.0      5.0      2.0        0  \n",
       "3      4.0      4.0      5.0        0  \n",
       "4      5.0      5.0      5.0        0  "
      ]
     },
     "execution_count": 11,
     "metadata": {},
     "output_type": "execute_result"
    }
   ],
   "source": [
    "test.head()"
   ]
  },
  {
   "cell_type": "code",
   "execution_count": 12,
   "id": "6f03b359",
   "metadata": {},
   "outputs": [
    {
     "data": {
      "text/plain": [
       "(6068, 16)"
      ]
     },
     "execution_count": 12,
     "metadata": {},
     "output_type": "execute_result"
    }
   ],
   "source": [
    "test.shape"
   ]
  },
  {
   "cell_type": "code",
   "execution_count": 13,
   "id": "1908757c",
   "metadata": {},
   "outputs": [
    {
     "name": "stdout",
     "output_type": "stream",
     "text": [
      "<class 'pandas.core.frame.DataFrame'>\n",
      "RangeIndex: 6068 entries, 0 to 6067\n",
      "Data columns (total 16 columns):\n",
      " #   Column          Non-Null Count  Dtype  \n",
      "---  ------          --------------  -----  \n",
      " 0   ID              6068 non-null   int64  \n",
      " 1   Place           6068 non-null   object \n",
      " 2   location        3746 non-null   object \n",
      " 3   date            6068 non-null   object \n",
      " 4   status          6068 non-null   object \n",
      " 5   job_title       6068 non-null   object \n",
      " 6   summary         6052 non-null   object \n",
      " 7   positives       6068 non-null   object \n",
      " 8   negatives       6068 non-null   object \n",
      " 9   advice_to_mgmt  3433 non-null   object \n",
      " 10  score_1         5439 non-null   float64\n",
      " 11  score_2         4903 non-null   float64\n",
      " 12  score_3         5445 non-null   float64\n",
      " 13  score_4         5436 non-null   float64\n",
      " 14  score_5         5384 non-null   float64\n",
      " 15  score_6         6068 non-null   int64  \n",
      "dtypes: float64(5), int64(2), object(9)\n",
      "memory usage: 758.6+ KB\n"
     ]
    }
   ],
   "source": [
    "test.info()"
   ]
  },
  {
   "cell_type": "code",
   "execution_count": 16,
   "id": "bfab894d",
   "metadata": {},
   "outputs": [
    {
     "data": {
      "text/plain": [
       "ID                   0\n",
       "Place                0\n",
       "location          2322\n",
       "date                 0\n",
       "status               0\n",
       "job_title            0\n",
       "summary             16\n",
       "positives            0\n",
       "negatives            0\n",
       "advice_to_mgmt    2635\n",
       "score_1            629\n",
       "score_2           1165\n",
       "score_3            623\n",
       "score_4            632\n",
       "score_5            684\n",
       "score_6              0\n",
       "dtype: int64"
      ]
     },
     "execution_count": 16,
     "metadata": {},
     "output_type": "execute_result"
    }
   ],
   "source": [
    "test.isna().sum()"
   ]
  },
  {
   "cell_type": "code",
   "execution_count": 17,
   "id": "f016347a",
   "metadata": {},
   "outputs": [
    {
     "data": {
      "text/html": [
       "<div>\n",
       "<style scoped>\n",
       "    .dataframe tbody tr th:only-of-type {\n",
       "        vertical-align: middle;\n",
       "    }\n",
       "\n",
       "    .dataframe tbody tr th {\n",
       "        vertical-align: top;\n",
       "    }\n",
       "\n",
       "    .dataframe thead th {\n",
       "        text-align: right;\n",
       "    }\n",
       "</style>\n",
       "<table border=\"1\" class=\"dataframe\">\n",
       "  <thead>\n",
       "    <tr style=\"text-align: right;\">\n",
       "      <th></th>\n",
       "      <th>ID</th>\n",
       "      <th>score_1</th>\n",
       "      <th>score_2</th>\n",
       "      <th>score_3</th>\n",
       "      <th>score_4</th>\n",
       "      <th>score_5</th>\n",
       "      <th>score_6</th>\n",
       "    </tr>\n",
       "  </thead>\n",
       "  <tbody>\n",
       "    <tr>\n",
       "      <th>count</th>\n",
       "      <td>6068.000000</td>\n",
       "      <td>5439.000000</td>\n",
       "      <td>4903.000000</td>\n",
       "      <td>5445.000000</td>\n",
       "      <td>5436.000000</td>\n",
       "      <td>5384.000000</td>\n",
       "      <td>6068.000000</td>\n",
       "    </tr>\n",
       "    <tr>\n",
       "      <th>mean</th>\n",
       "      <td>33994.963415</td>\n",
       "      <td>3.375345</td>\n",
       "      <td>3.796247</td>\n",
       "      <td>3.647842</td>\n",
       "      <td>3.964956</td>\n",
       "      <td>3.329959</td>\n",
       "      <td>1.544001</td>\n",
       "    </tr>\n",
       "    <tr>\n",
       "      <th>std</th>\n",
       "      <td>19370.346574</td>\n",
       "      <td>1.303409</td>\n",
       "      <td>1.297885</td>\n",
       "      <td>1.222717</td>\n",
       "      <td>1.039874</td>\n",
       "      <td>1.320298</td>\n",
       "      <td>25.468271</td>\n",
       "    </tr>\n",
       "    <tr>\n",
       "      <th>min</th>\n",
       "      <td>17.000000</td>\n",
       "      <td>1.000000</td>\n",
       "      <td>1.000000</td>\n",
       "      <td>1.000000</td>\n",
       "      <td>1.000000</td>\n",
       "      <td>1.000000</td>\n",
       "      <td>0.000000</td>\n",
       "    </tr>\n",
       "    <tr>\n",
       "      <th>25%</th>\n",
       "      <td>17538.250000</td>\n",
       "      <td>2.000000</td>\n",
       "      <td>3.000000</td>\n",
       "      <td>3.000000</td>\n",
       "      <td>3.000000</td>\n",
       "      <td>2.000000</td>\n",
       "      <td>0.000000</td>\n",
       "    </tr>\n",
       "    <tr>\n",
       "      <th>50%</th>\n",
       "      <td>33638.000000</td>\n",
       "      <td>3.500000</td>\n",
       "      <td>4.000000</td>\n",
       "      <td>4.000000</td>\n",
       "      <td>4.000000</td>\n",
       "      <td>3.500000</td>\n",
       "      <td>0.000000</td>\n",
       "    </tr>\n",
       "    <tr>\n",
       "      <th>75%</th>\n",
       "      <td>51128.750000</td>\n",
       "      <td>4.000000</td>\n",
       "      <td>5.000000</td>\n",
       "      <td>5.000000</td>\n",
       "      <td>5.000000</td>\n",
       "      <td>4.000000</td>\n",
       "      <td>1.000000</td>\n",
       "    </tr>\n",
       "    <tr>\n",
       "      <th>max</th>\n",
       "      <td>67504.000000</td>\n",
       "      <td>5.000000</td>\n",
       "      <td>5.000000</td>\n",
       "      <td>5.000000</td>\n",
       "      <td>5.000000</td>\n",
       "      <td>5.000000</td>\n",
       "      <td>1404.000000</td>\n",
       "    </tr>\n",
       "  </tbody>\n",
       "</table>\n",
       "</div>"
      ],
      "text/plain": [
       "                 ID      score_1      score_2      score_3      score_4  \\\n",
       "count   6068.000000  5439.000000  4903.000000  5445.000000  5436.000000   \n",
       "mean   33994.963415     3.375345     3.796247     3.647842     3.964956   \n",
       "std    19370.346574     1.303409     1.297885     1.222717     1.039874   \n",
       "min       17.000000     1.000000     1.000000     1.000000     1.000000   \n",
       "25%    17538.250000     2.000000     3.000000     3.000000     3.000000   \n",
       "50%    33638.000000     3.500000     4.000000     4.000000     4.000000   \n",
       "75%    51128.750000     4.000000     5.000000     5.000000     5.000000   \n",
       "max    67504.000000     5.000000     5.000000     5.000000     5.000000   \n",
       "\n",
       "           score_5      score_6  \n",
       "count  5384.000000  6068.000000  \n",
       "mean      3.329959     1.544001  \n",
       "std       1.320298    25.468271  \n",
       "min       1.000000     0.000000  \n",
       "25%       2.000000     0.000000  \n",
       "50%       3.500000     0.000000  \n",
       "75%       4.000000     1.000000  \n",
       "max       5.000000  1404.000000  "
      ]
     },
     "execution_count": 17,
     "metadata": {},
     "output_type": "execute_result"
    }
   ],
   "source": [
    "test.describe()"
   ]
  },
  {
   "cell_type": "markdown",
   "id": "77400ddd",
   "metadata": {},
   "source": [
    "# Missing Values"
   ]
  },
  {
   "cell_type": "code",
   "execution_count": 14,
   "id": "76abadd4",
   "metadata": {},
   "outputs": [
    {
     "name": "stdout",
     "output_type": "stream",
     "text": [
      "location 0.3681  % missing values\n",
      "summary 0.0015  % missing values\n",
      "advice_to_mgmt 0.4385  % missing values\n",
      "score_1 0.1054  % missing values\n",
      "score_2 0.2013  % missing values\n",
      "score_3 0.1049  % missing values\n",
      "score_4 0.1054  % missing values\n",
      "score_5 0.1154  % missing values\n"
     ]
    }
   ],
   "source": [
    "# checking the percentage of nan values present in each feature\n",
    "features_with_na=[features for features in train.columns if train[features].isnull().sum()>1]\n",
    "for feature in features_with_na:\n",
    "    print(feature, np.round(train[feature].isnull().mean(), 4),  ' % missing values')"
   ]
  },
  {
   "cell_type": "markdown",
   "id": "25e974ad",
   "metadata": {},
   "source": [
    "## Numerical features"
   ]
  },
  {
   "cell_type": "code",
   "execution_count": 18,
   "id": "d53a0c9e",
   "metadata": {},
   "outputs": [
    {
     "name": "stdout",
     "output_type": "stream",
     "text": [
      "Number of numerical variables:  8\n"
     ]
    },
    {
     "data": {
      "text/html": [
       "<div>\n",
       "<style scoped>\n",
       "    .dataframe tbody tr th:only-of-type {\n",
       "        vertical-align: middle;\n",
       "    }\n",
       "\n",
       "    .dataframe tbody tr th {\n",
       "        vertical-align: top;\n",
       "    }\n",
       "\n",
       "    .dataframe thead th {\n",
       "        text-align: right;\n",
       "    }\n",
       "</style>\n",
       "<table border=\"1\" class=\"dataframe\">\n",
       "  <thead>\n",
       "    <tr style=\"text-align: right;\">\n",
       "      <th></th>\n",
       "      <th>ID</th>\n",
       "      <th>score_1</th>\n",
       "      <th>score_2</th>\n",
       "      <th>score_3</th>\n",
       "      <th>score_4</th>\n",
       "      <th>score_5</th>\n",
       "      <th>score_6</th>\n",
       "      <th>overall</th>\n",
       "    </tr>\n",
       "  </thead>\n",
       "  <tbody>\n",
       "    <tr>\n",
       "      <th>0</th>\n",
       "      <td>25355</td>\n",
       "      <td>3.0</td>\n",
       "      <td>5.0</td>\n",
       "      <td>4.0</td>\n",
       "      <td>5.0</td>\n",
       "      <td>4.0</td>\n",
       "      <td>0</td>\n",
       "      <td>3.0</td>\n",
       "    </tr>\n",
       "    <tr>\n",
       "      <th>1</th>\n",
       "      <td>66963</td>\n",
       "      <td>3.5</td>\n",
       "      <td>NaN</td>\n",
       "      <td>3.5</td>\n",
       "      <td>4.0</td>\n",
       "      <td>1.0</td>\n",
       "      <td>4</td>\n",
       "      <td>3.0</td>\n",
       "    </tr>\n",
       "    <tr>\n",
       "      <th>2</th>\n",
       "      <td>50981</td>\n",
       "      <td>2.0</td>\n",
       "      <td>1.0</td>\n",
       "      <td>3.0</td>\n",
       "      <td>4.0</td>\n",
       "      <td>1.0</td>\n",
       "      <td>0</td>\n",
       "      <td>3.0</td>\n",
       "    </tr>\n",
       "    <tr>\n",
       "      <th>3</th>\n",
       "      <td>65337</td>\n",
       "      <td>4.0</td>\n",
       "      <td>4.0</td>\n",
       "      <td>5.0</td>\n",
       "      <td>4.0</td>\n",
       "      <td>4.0</td>\n",
       "      <td>0</td>\n",
       "      <td>3.0</td>\n",
       "    </tr>\n",
       "    <tr>\n",
       "      <th>4</th>\n",
       "      <td>38342</td>\n",
       "      <td>5.0</td>\n",
       "      <td>5.0</td>\n",
       "      <td>5.0</td>\n",
       "      <td>5.0</td>\n",
       "      <td>5.0</td>\n",
       "      <td>0</td>\n",
       "      <td>3.0</td>\n",
       "    </tr>\n",
       "  </tbody>\n",
       "</table>\n",
       "</div>"
      ],
      "text/plain": [
       "      ID  score_1  score_2  score_3  score_4  score_5  score_6  overall\n",
       "0  25355      3.0      5.0      4.0      5.0      4.0        0      3.0\n",
       "1  66963      3.5      NaN      3.5      4.0      1.0        4      3.0\n",
       "2  50981      2.0      1.0      3.0      4.0      1.0        0      3.0\n",
       "3  65337      4.0      4.0      5.0      4.0      4.0        0      3.0\n",
       "4  38342      5.0      5.0      5.0      5.0      5.0        0      3.0"
      ]
     },
     "execution_count": 18,
     "metadata": {},
     "output_type": "execute_result"
    }
   ],
   "source": [
    "# list of numerical variables\n",
    "numerical_features = [feature for feature in train.columns if train[feature].dtypes != 'O']\n",
    "\n",
    "print('Number of numerical variables: ', len(numerical_features))\n",
    "\n",
    "# visualise the numerical variables\n",
    "train[numerical_features].head()"
   ]
  },
  {
   "cell_type": "markdown",
   "id": "7e4cacb7",
   "metadata": {},
   "source": [
    "## Categorical features"
   ]
  },
  {
   "cell_type": "code",
   "execution_count": 19,
   "id": "5aff430e",
   "metadata": {},
   "outputs": [
    {
     "name": "stdout",
     "output_type": "stream",
     "text": [
      "Number of categorical variables:  9\n"
     ]
    },
    {
     "data": {
      "text/html": [
       "<div>\n",
       "<style scoped>\n",
       "    .dataframe tbody tr th:only-of-type {\n",
       "        vertical-align: middle;\n",
       "    }\n",
       "\n",
       "    .dataframe tbody tr th {\n",
       "        vertical-align: top;\n",
       "    }\n",
       "\n",
       "    .dataframe thead th {\n",
       "        text-align: right;\n",
       "    }\n",
       "</style>\n",
       "<table border=\"1\" class=\"dataframe\">\n",
       "  <thead>\n",
       "    <tr style=\"text-align: right;\">\n",
       "      <th></th>\n",
       "      <th>Place</th>\n",
       "      <th>location</th>\n",
       "      <th>date</th>\n",
       "      <th>status</th>\n",
       "      <th>job_title</th>\n",
       "      <th>summary</th>\n",
       "      <th>positives</th>\n",
       "      <th>negatives</th>\n",
       "      <th>advice_to_mgmt</th>\n",
       "    </tr>\n",
       "  </thead>\n",
       "  <tbody>\n",
       "    <tr>\n",
       "      <th>0</th>\n",
       "      <td>startup_4</td>\n",
       "      <td>Iaşi (Romania)</td>\n",
       "      <td>Dec 9, 2018</td>\n",
       "      <td>Current Employee</td>\n",
       "      <td>SDE1</td>\n",
       "      <td>SDE overview</td>\n",
       "      <td>Great impact. Professional people. Chance to s...</td>\n",
       "      <td>You should be on-call according to a team rota...</td>\n",
       "      <td>None.</td>\n",
       "    </tr>\n",
       "    <tr>\n",
       "      <th>1</th>\n",
       "      <td>startup_6</td>\n",
       "      <td>NaN</td>\n",
       "      <td>May 21, 2012</td>\n",
       "      <td>Current Employee</td>\n",
       "      <td>Sales Director</td>\n",
       "      <td>Experience over 17 years has been very mixed -...</td>\n",
       "      <td>one of the best reasons to work at Microsoft i...</td>\n",
       "      <td>Microsoft has become a highly political org wi...</td>\n",
       "      <td>Take a deep, hard look at the advertising org....</td>\n",
       "    </tr>\n",
       "    <tr>\n",
       "      <th>2</th>\n",
       "      <td>startup_6</td>\n",
       "      <td>NaN</td>\n",
       "      <td>Oct 12, 2017</td>\n",
       "      <td>Current Employee</td>\n",
       "      <td>Anonymous Employee</td>\n",
       "      <td>Lots of shiny surface, little depth</td>\n",
       "      <td>Benefits and salary are relatively competitive</td>\n",
       "      <td>Microsoft is getting in its own way of success...</td>\n",
       "      <td>Need to deliver beyond the empty words that cu...</td>\n",
       "    </tr>\n",
       "    <tr>\n",
       "      <th>3</th>\n",
       "      <td>startup_6</td>\n",
       "      <td>Vancouver, BC (Canada)</td>\n",
       "      <td>May 7, 2015</td>\n",
       "      <td>Former Employee</td>\n",
       "      <td>Finance Intern</td>\n",
       "      <td>MAP Intern</td>\n",
       "      <td>the MAP program at Microsoft is one of the bes...</td>\n",
       "      <td>No cons to report whatsoever</td>\n",
       "      <td>keep doing what you're doing</td>\n",
       "    </tr>\n",
       "    <tr>\n",
       "      <th>4</th>\n",
       "      <td>startup_2</td>\n",
       "      <td>New York, NY</td>\n",
       "      <td>Oct 9, 2017</td>\n",
       "      <td>Current Employee</td>\n",
       "      <td>Senior Software Engineer</td>\n",
       "      <td>Dear Apple</td>\n",
       "      <td>Supportive environment, and great food.</td>\n",
       "      <td>Lack of proximity to some low-end restaurants.</td>\n",
       "      <td>Keep it up!</td>\n",
       "    </tr>\n",
       "  </tbody>\n",
       "</table>\n",
       "</div>"
      ],
      "text/plain": [
       "       Place                location           date             status  \\\n",
       "0  startup_4          Iaşi (Romania)    Dec 9, 2018  Current Employee    \n",
       "1  startup_6                     NaN   May 21, 2012  Current Employee    \n",
       "2  startup_6                     NaN   Oct 12, 2017  Current Employee    \n",
       "3  startup_6  Vancouver, BC (Canada)    May 7, 2015   Former Employee    \n",
       "4  startup_2            New York, NY    Oct 9, 2017  Current Employee    \n",
       "\n",
       "                   job_title  \\\n",
       "0                       SDE1   \n",
       "1             Sales Director   \n",
       "2         Anonymous Employee   \n",
       "3             Finance Intern   \n",
       "4   Senior Software Engineer   \n",
       "\n",
       "                                             summary  \\\n",
       "0                                       SDE overview   \n",
       "1  Experience over 17 years has been very mixed -...   \n",
       "2                Lots of shiny surface, little depth   \n",
       "3                                         MAP Intern   \n",
       "4                                         Dear Apple   \n",
       "\n",
       "                                           positives  \\\n",
       "0  Great impact. Professional people. Chance to s...   \n",
       "1  one of the best reasons to work at Microsoft i...   \n",
       "2     Benefits and salary are relatively competitive   \n",
       "3  the MAP program at Microsoft is one of the bes...   \n",
       "4            Supportive environment, and great food.   \n",
       "\n",
       "                                           negatives  \\\n",
       "0  You should be on-call according to a team rota...   \n",
       "1  Microsoft has become a highly political org wi...   \n",
       "2  Microsoft is getting in its own way of success...   \n",
       "3                       No cons to report whatsoever   \n",
       "4     Lack of proximity to some low-end restaurants.   \n",
       "\n",
       "                                      advice_to_mgmt  \n",
       "0                                              None.  \n",
       "1  Take a deep, hard look at the advertising org....  \n",
       "2  Need to deliver beyond the empty words that cu...  \n",
       "3                       keep doing what you're doing  \n",
       "4                                        Keep it up!  "
      ]
     },
     "execution_count": 19,
     "metadata": {},
     "output_type": "execute_result"
    }
   ],
   "source": [
    "# list of categorical variables\n",
    "categorical_features = [feature for feature in train.columns if train[feature].dtypes =='O']\n",
    "\n",
    "print('Number of categorical variables: ', len(categorical_features))\n",
    "\n",
    "# visualise the categorical variables\n",
    "train[categorical_features].head()"
   ]
  },
  {
   "cell_type": "code",
   "execution_count": 20,
   "id": "d3c6aa24",
   "metadata": {},
   "outputs": [
    {
     "data": {
      "image/png": "[encoded data removed]",
      "text/plain": [
       "<Figure size 720x720 with 9 Axes>"
      ]
     },
     "metadata": {
      "needs_background": "light"
     },
     "output_type": "display_data"
    }
   ],
   "source": [
    "train.plot(kind ='box', subplots =True,sharex =True,sharey= False, layout = (3,3), figsize=(10,10))\n",
    "plt.show()"
   ]
  },
  {
   "cell_type": "markdown",
   "id": "ae90d9cb",
   "metadata": {},
   "source": [
    "### Handling of missing values"
   ]
  },
  {
   "cell_type": "code",
   "execution_count": 21,
   "id": "c98f4a72",
   "metadata": {},
   "outputs": [
    {
     "data": {
      "text/plain": [
       "ID                    0\n",
       "Place                 0\n",
       "location           8932\n",
       "date                  0\n",
       "status                0\n",
       "job_title             0\n",
       "summary              36\n",
       "positives             0\n",
       "negatives             0\n",
       "advice_to_mgmt    10642\n",
       "score_1            2557\n",
       "score_2            4885\n",
       "score_3            2546\n",
       "score_4            2559\n",
       "score_5            2801\n",
       "score_6               0\n",
       "overall               0\n",
       "dtype: int64"
      ]
     },
     "execution_count": 21,
     "metadata": {},
     "output_type": "execute_result"
    }
   ],
   "source": [
    "train.isna().sum()"
   ]
  },
  {
   "cell_type": "code",
   "execution_count": 22,
   "id": "b01e9d20",
   "metadata": {},
   "outputs": [
    {
     "data": {
      "text/plain": [
       "Redmond, WA          2016\n",
       "Seattle, WA          1768\n",
       "Hyderabad (India)     768\n",
       "Mountain View, CA     614\n",
       "Bengaluru (India)     564\n",
       "                     ... \n",
       "Long Beach, CA          1\n",
       "Carnegie, PA            1\n",
       "Eastvale, PA            1\n",
       "Germantown, TN          1\n",
       "Vellore (India)         1\n",
       "Name: location, Length: 1226, dtype: int64"
      ]
     },
     "execution_count": 22,
     "metadata": {},
     "output_type": "execute_result"
    }
   ],
   "source": [
    "train['location'].value_counts()"
   ]
  },
  {
   "cell_type": "code",
   "execution_count": 24,
   "id": "50cf958a",
   "metadata": {},
   "outputs": [
    {
     "data": {
      "text/plain": [
       "0"
      ]
     },
     "execution_count": 24,
     "metadata": {},
     "output_type": "execute_result"
    }
   ],
   "source": [
    "# since location is a categorical feature, it is replaced with most frequent category\n",
    "train['location']=train['location'].fillna(train['location'].mode()[0])\n",
    "train['location'].isna().sum()"
   ]
  },
  {
   "cell_type": "code",
   "execution_count": 25,
   "id": "d9013308",
   "metadata": {},
   "outputs": [
    {
     "data": {
      "text/plain": [
       "0"
      ]
     },
     "execution_count": 25,
     "metadata": {},
     "output_type": "execute_result"
    }
   ],
   "source": [
    "#for 'advice_to_mgmt' there are 13277 missing values which is huge so filling it with a new catogory variable'unknown'\n",
    "train['advice_to_mgmt']=train['advice_to_mgmt'].fillna('Unknown')\n",
    "train['advice_to_mgmt'].isna().sum()"
   ]
  },
  {
   "cell_type": "code",
   "execution_count": 27,
   "id": "33ee09d3",
   "metadata": {},
   "outputs": [
    {
     "data": {
      "text/plain": [
       "status\n",
       "Current Employee     4.0\n",
       "Former Employee      3.0\n",
       "Name: score_1, dtype: float64"
      ]
     },
     "execution_count": 27,
     "metadata": {},
     "output_type": "execute_result"
    }
   ],
   "source": [
    "train.groupby(['status'])['score_1'].median()"
   ]
  },
  {
   "cell_type": "code",
   "execution_count": 29,
   "id": "2c7c9877",
   "metadata": {},
   "outputs": [],
   "source": [
    "#missing values can be filled with median for each class\n",
    "train['score_1'] = train['score_1'].fillna(train.groupby('status')['score_1'].transform('median'))"
   ]
  },
  {
   "cell_type": "code",
   "execution_count": 30,
   "id": "4011a266",
   "metadata": {},
   "outputs": [
    {
     "data": {
      "text/plain": [
       "status\n",
       "Current Employee     4.0\n",
       "Former Employee      4.0\n",
       "Name: score_2, dtype: float64"
      ]
     },
     "execution_count": 30,
     "metadata": {},
     "output_type": "execute_result"
    }
   ],
   "source": [
    "train.groupby(['status'])['score_2'].median()"
   ]
  },
  {
   "cell_type": "code",
   "execution_count": 31,
   "id": "72d98aed",
   "metadata": {},
   "outputs": [],
   "source": [
    "cols=['score_4','score_2','score_3','score_5']\n",
    "for i in cols:\n",
    "    train[i] = train[i].fillna(train.groupby('status')[i].transform('median'))"
   ]
  },
  {
   "cell_type": "code",
   "execution_count": 32,
   "id": "961105d6",
   "metadata": {},
   "outputs": [
    {
     "data": {
      "text/plain": [
       "ID                 0\n",
       "Place              0\n",
       "location           0\n",
       "date               0\n",
       "status             0\n",
       "job_title          0\n",
       "summary           36\n",
       "positives          0\n",
       "negatives          0\n",
       "advice_to_mgmt     0\n",
       "score_1            0\n",
       "score_2            0\n",
       "score_3            0\n",
       "score_4            0\n",
       "score_5            0\n",
       "score_6            0\n",
       "overall            0\n",
       "dtype: int64"
      ]
     },
     "execution_count": 32,
     "metadata": {},
     "output_type": "execute_result"
    }
   ],
   "source": [
    "train.isnull().sum()"
   ]
  },
  {
   "cell_type": "code",
   "execution_count": 34,
   "id": "5bde1ff0",
   "metadata": {},
   "outputs": [
    {
     "data": {
      "text/plain": [
       "Great place to work                              245\n",
       "Great company                                    188\n",
       "Software Engineer                                171\n",
       "Great Company                                    140\n",
       "Good                                             139\n",
       "                                                ... \n",
       "Apple Senior Technical Advisor                     1\n",
       "Collaborative team with lots of career growth      1\n",
       "International Revenue Allocation Analyst           1\n",
       "One of the best environment to learn.              1\n",
       "Amazon Great Company To Work At                    1\n",
       "Name: summary, Length: 16868, dtype: int64"
      ]
     },
     "execution_count": 34,
     "metadata": {},
     "output_type": "execute_result"
    }
   ],
   "source": [
    "train['summary'].value_counts()"
   ]
  },
  {
   "cell_type": "code",
   "execution_count": 35,
   "id": "2c6d0208",
   "metadata": {},
   "outputs": [],
   "source": [
    "train['summary']=train['summary'].fillna('Unknown')"
   ]
  },
  {
   "cell_type": "code",
   "execution_count": 36,
   "id": "e922fdd0",
   "metadata": {},
   "outputs": [
    {
     "data": {
      "text/plain": [
       "ID                0\n",
       "Place             0\n",
       "location          0\n",
       "date              0\n",
       "status            0\n",
       "job_title         0\n",
       "summary           0\n",
       "positives         0\n",
       "negatives         0\n",
       "advice_to_mgmt    0\n",
       "score_1           0\n",
       "score_2           0\n",
       "score_3           0\n",
       "score_4           0\n",
       "score_5           0\n",
       "score_6           0\n",
       "overall           0\n",
       "dtype: int64"
      ]
     },
     "execution_count": 36,
     "metadata": {},
     "output_type": "execute_result"
    }
   ],
   "source": [
    "train.isnull().sum()"
   ]
  },
  {
   "cell_type": "markdown",
   "id": "03e10a8d",
   "metadata": {},
   "source": [
    "### Handling outliers"
   ]
  },
  {
   "cell_type": "code",
   "execution_count": 37,
   "id": "a34f6058",
   "metadata": {},
   "outputs": [],
   "source": [
    "from scipy.stats.mstats import winsorize\n",
    "\n",
    "train['score_6'] = winsorize(train[\"score_6\"], limits = 0.01)"
   ]
  },
  {
   "cell_type": "code",
   "execution_count": 38,
   "id": "d0ca7a2a",
   "metadata": {},
   "outputs": [],
   "source": [
    "#converting categorical columns to numerical\n",
    "#label encoding\n",
    "from sklearn.preprocessing import LabelEncoder\n",
    "le = LabelEncoder()\n",
    "for i in ['Place','location','date','status','job_title','summary','positives','negatives','advice_to_mgmt']:\n",
    "    train[i]=le.fit_transform(train[i])"
   ]
  },
  {
   "cell_type": "code",
   "execution_count": 39,
   "id": "9c272442",
   "metadata": {},
   "outputs": [
    {
     "data": {
      "text/plain": [
       "0"
      ]
     },
     "execution_count": 39,
     "metadata": {},
     "output_type": "execute_result"
    }
   ],
   "source": [
    "#Handling missing values in test data\n",
    "# since location is a categorical feature, it is replaced with most frequent category\n",
    "test['location']=test['location'].fillna(test['location'].mode()[0])\n",
    "test['location'].isna().sum()"
   ]
  },
  {
   "cell_type": "code",
   "execution_count": 40,
   "id": "1fa4f8f5",
   "metadata": {},
   "outputs": [
    {
     "data": {
      "text/plain": [
       "0"
      ]
     },
     "execution_count": 40,
     "metadata": {},
     "output_type": "execute_result"
    }
   ],
   "source": [
    "test['advice_to_mgmt']=test['advice_to_mgmt'].fillna('Unknown')\n",
    "test['advice_to_mgmt'].isna().sum()"
   ]
  },
  {
   "cell_type": "code",
   "execution_count": 41,
   "id": "14387476",
   "metadata": {},
   "outputs": [],
   "source": [
    "test['score_1'] = test['score_1'].fillna(test.groupby('status')['score_1'].transform('median'))"
   ]
  },
  {
   "cell_type": "code",
   "execution_count": 42,
   "id": "a9ebc1e4",
   "metadata": {},
   "outputs": [],
   "source": [
    "cols=['score_4','score_2','score_3','score_5']\n",
    "for i in cols:\n",
    "    test[i] = test[i].fillna(test.groupby('status')[i].transform('median'))"
   ]
  },
  {
   "cell_type": "code",
   "execution_count": 43,
   "id": "b8e6cea3",
   "metadata": {},
   "outputs": [],
   "source": [
    "test['summary']=test['summary'].fillna('Unknown')"
   ]
  },
  {
   "cell_type": "code",
   "execution_count": 44,
   "id": "48300a3d",
   "metadata": {},
   "outputs": [
    {
     "data": {
      "text/plain": [
       "ID                0\n",
       "Place             0\n",
       "location          0\n",
       "date              0\n",
       "status            0\n",
       "job_title         0\n",
       "summary           0\n",
       "positives         0\n",
       "negatives         0\n",
       "advice_to_mgmt    0\n",
       "score_1           0\n",
       "score_2           0\n",
       "score_3           0\n",
       "score_4           0\n",
       "score_5           0\n",
       "score_6           0\n",
       "dtype: int64"
      ]
     },
     "execution_count": 44,
     "metadata": {},
     "output_type": "execute_result"
    }
   ],
   "source": [
    "test.isna().sum()"
   ]
  },
  {
   "cell_type": "code",
   "execution_count": 45,
   "id": "23bd96d7",
   "metadata": {},
   "outputs": [
    {
     "data": {
      "image/png": "[encoded data removed]",
      "text/plain": [
       "<Figure size 720x720 with 9 Axes>"
      ]
     },
     "metadata": {
      "needs_background": "light"
     },
     "output_type": "display_data"
    }
   ],
   "source": [
    "test.plot(kind ='box', subplots =True,sharex =True,sharey= False, layout = (3,3), figsize=(10,10))\n",
    "plt.show()"
   ]
  },
  {
   "cell_type": "code",
   "execution_count": 46,
   "id": "b85e44d6",
   "metadata": {},
   "outputs": [],
   "source": [
    "test['score_6'] = winsorize(test[\"score_6\"], limits = 0.01)"
   ]
  },
  {
   "cell_type": "code",
   "execution_count": 47,
   "id": "ae5a45f2",
   "metadata": {},
   "outputs": [],
   "source": [
    "#converting categorical columns to numerical\n",
    "#label encoding\n",
    "from sklearn.preprocessing import LabelEncoder\n",
    "le = LabelEncoder()\n",
    "for i in ['Place','location','date','status','job_title','summary','positives','negatives','advice_to_mgmt']:\n",
    "    test[i]=le.fit_transform(test[i])"
   ]
  },
  {
   "cell_type": "code",
   "execution_count": 48,
   "id": "8edb29de",
   "metadata": {},
   "outputs": [
    {
     "data": {
      "text/html": [
       "<div>\n",
       "<style scoped>\n",
       "    .dataframe tbody tr th:only-of-type {\n",
       "        vertical-align: middle;\n",
       "    }\n",
       "\n",
       "    .dataframe tbody tr th {\n",
       "        vertical-align: top;\n",
       "    }\n",
       "\n",
       "    .dataframe thead th {\n",
       "        text-align: right;\n",
       "    }\n",
       "</style>\n",
       "<table border=\"1\" class=\"dataframe\">\n",
       "  <thead>\n",
       "    <tr style=\"text-align: right;\">\n",
       "      <th></th>\n",
       "      <th>ID</th>\n",
       "      <th>Place</th>\n",
       "      <th>location</th>\n",
       "      <th>date</th>\n",
       "      <th>status</th>\n",
       "      <th>job_title</th>\n",
       "      <th>summary</th>\n",
       "      <th>positives</th>\n",
       "      <th>negatives</th>\n",
       "      <th>advice_to_mgmt</th>\n",
       "      <th>score_1</th>\n",
       "      <th>score_2</th>\n",
       "      <th>score_3</th>\n",
       "      <th>score_4</th>\n",
       "      <th>score_5</th>\n",
       "      <th>score_6</th>\n",
       "      <th>overall</th>\n",
       "    </tr>\n",
       "  </thead>\n",
       "  <tbody>\n",
       "    <tr>\n",
       "      <th>0</th>\n",
       "      <td>25355</td>\n",
       "      <td>3</td>\n",
       "      <td>491</td>\n",
       "      <td>853</td>\n",
       "      <td>0</td>\n",
       "      <td>2194</td>\n",
       "      <td>12457</td>\n",
       "      <td>10360</td>\n",
       "      <td>20304</td>\n",
       "      <td>7354</td>\n",
       "      <td>3.0</td>\n",
       "      <td>5.0</td>\n",
       "      <td>4.0</td>\n",
       "      <td>5.0</td>\n",
       "      <td>4.0</td>\n",
       "      <td>0</td>\n",
       "      <td>3.0</td>\n",
       "    </tr>\n",
       "    <tr>\n",
       "      <th>1</th>\n",
       "      <td>66963</td>\n",
       "      <td>5</td>\n",
       "      <td>903</td>\n",
       "      <td>2354</td>\n",
       "      <td>0</td>\n",
       "      <td>2250</td>\n",
       "      <td>4251</td>\n",
       "      <td>23242</td>\n",
       "      <td>10255</td>\n",
       "      <td>9661</td>\n",
       "      <td>3.5</td>\n",
       "      <td>4.0</td>\n",
       "      <td>3.5</td>\n",
       "      <td>4.0</td>\n",
       "      <td>1.0</td>\n",
       "      <td>4</td>\n",
       "      <td>3.0</td>\n",
       "    </tr>\n",
       "    <tr>\n",
       "      <th>2</th>\n",
       "      <td>50981</td>\n",
       "      <td>5</td>\n",
       "      <td>903</td>\n",
       "      <td>2841</td>\n",
       "      <td>0</td>\n",
       "      <td>149</td>\n",
       "      <td>9643</td>\n",
       "      <td>3240</td>\n",
       "      <td>10285</td>\n",
       "      <td>7143</td>\n",
       "      <td>2.0</td>\n",
       "      <td>1.0</td>\n",
       "      <td>3.0</td>\n",
       "      <td>4.0</td>\n",
       "      <td>1.0</td>\n",
       "      <td>0</td>\n",
       "      <td>3.0</td>\n",
       "    </tr>\n",
       "    <tr>\n",
       "      <th>3</th>\n",
       "      <td>65337</td>\n",
       "      <td>5</td>\n",
       "      <td>1137</td>\n",
       "      <td>2504</td>\n",
       "      <td>1</td>\n",
       "      <td>967</td>\n",
       "      <td>9777</td>\n",
       "      <td>23572</td>\n",
       "      <td>10991</td>\n",
       "      <td>12036</td>\n",
       "      <td>4.0</td>\n",
       "      <td>4.0</td>\n",
       "      <td>5.0</td>\n",
       "      <td>4.0</td>\n",
       "      <td>4.0</td>\n",
       "      <td>0</td>\n",
       "      <td>3.0</td>\n",
       "    </tr>\n",
       "    <tr>\n",
       "      <th>4</th>\n",
       "      <td>38342</td>\n",
       "      <td>1</td>\n",
       "      <td>753</td>\n",
       "      <td>3106</td>\n",
       "      <td>0</td>\n",
       "      <td>2597</td>\n",
       "      <td>3406</td>\n",
       "      <td>17397</td>\n",
       "      <td>8397</td>\n",
       "      <td>5361</td>\n",
       "      <td>5.0</td>\n",
       "      <td>5.0</td>\n",
       "      <td>5.0</td>\n",
       "      <td>5.0</td>\n",
       "      <td>5.0</td>\n",
       "      <td>0</td>\n",
       "      <td>3.0</td>\n",
       "    </tr>\n",
       "  </tbody>\n",
       "</table>\n",
       "</div>"
      ],
      "text/plain": [
       "      ID  Place  location  date  status  job_title  summary  positives  \\\n",
       "0  25355      3       491   853       0       2194    12457      10360   \n",
       "1  66963      5       903  2354       0       2250     4251      23242   \n",
       "2  50981      5       903  2841       0        149     9643       3240   \n",
       "3  65337      5      1137  2504       1        967     9777      23572   \n",
       "4  38342      1       753  3106       0       2597     3406      17397   \n",
       "\n",
       "   negatives  advice_to_mgmt  score_1  score_2  score_3  score_4  score_5  \\\n",
       "0      20304            7354      3.0      5.0      4.0      5.0      4.0   \n",
       "1      10255            9661      3.5      4.0      3.5      4.0      1.0   \n",
       "2      10285            7143      2.0      1.0      3.0      4.0      1.0   \n",
       "3      10991           12036      4.0      4.0      5.0      4.0      4.0   \n",
       "4       8397            5361      5.0      5.0      5.0      5.0      5.0   \n",
       "\n",
       "   score_6  overall  \n",
       "0        0      3.0  \n",
       "1        4      3.0  \n",
       "2        0      3.0  \n",
       "3        0      3.0  \n",
       "4        0      3.0  "
      ]
     },
     "execution_count": 48,
     "metadata": {},
     "output_type": "execute_result"
    }
   ],
   "source": [
    "train.head()"
   ]
  },
  {
   "cell_type": "code",
   "execution_count": 49,
   "id": "2dca11f4",
   "metadata": {},
   "outputs": [
    {
     "data": {
      "text/html": [
       "<div>\n",
       "<style scoped>\n",
       "    .dataframe tbody tr th:only-of-type {\n",
       "        vertical-align: middle;\n",
       "    }\n",
       "\n",
       "    .dataframe tbody tr th {\n",
       "        vertical-align: top;\n",
       "    }\n",
       "\n",
       "    .dataframe thead th {\n",
       "        text-align: right;\n",
       "    }\n",
       "</style>\n",
       "<table border=\"1\" class=\"dataframe\">\n",
       "  <thead>\n",
       "    <tr style=\"text-align: right;\">\n",
       "      <th></th>\n",
       "      <th>ID</th>\n",
       "      <th>Place</th>\n",
       "      <th>location</th>\n",
       "      <th>date</th>\n",
       "      <th>status</th>\n",
       "      <th>job_title</th>\n",
       "      <th>summary</th>\n",
       "      <th>positives</th>\n",
       "      <th>negatives</th>\n",
       "      <th>advice_to_mgmt</th>\n",
       "      <th>score_1</th>\n",
       "      <th>score_2</th>\n",
       "      <th>score_3</th>\n",
       "      <th>score_4</th>\n",
       "      <th>score_5</th>\n",
       "      <th>score_6</th>\n",
       "    </tr>\n",
       "  </thead>\n",
       "  <tbody>\n",
       "    <tr>\n",
       "      <th>0</th>\n",
       "      <td>24788</td>\n",
       "      <td>3</td>\n",
       "      <td>481</td>\n",
       "      <td>2317</td>\n",
       "      <td>0</td>\n",
       "      <td>56</td>\n",
       "      <td>4404</td>\n",
       "      <td>3329</td>\n",
       "      <td>4953</td>\n",
       "      <td>2776</td>\n",
       "      <td>3.0</td>\n",
       "      <td>4.0</td>\n",
       "      <td>3.5</td>\n",
       "      <td>2.5</td>\n",
       "      <td>4.0</td>\n",
       "      <td>3</td>\n",
       "    </tr>\n",
       "    <tr>\n",
       "      <th>1</th>\n",
       "      <td>6607</td>\n",
       "      <td>0</td>\n",
       "      <td>427</td>\n",
       "      <td>1940</td>\n",
       "      <td>1</td>\n",
       "      <td>56</td>\n",
       "      <td>1102</td>\n",
       "      <td>2779</td>\n",
       "      <td>4265</td>\n",
       "      <td>1432</td>\n",
       "      <td>5.0</td>\n",
       "      <td>5.0</td>\n",
       "      <td>5.0</td>\n",
       "      <td>5.0</td>\n",
       "      <td>5.0</td>\n",
       "      <td>0</td>\n",
       "    </tr>\n",
       "    <tr>\n",
       "      <th>2</th>\n",
       "      <td>13591</td>\n",
       "      <td>3</td>\n",
       "      <td>427</td>\n",
       "      <td>2068</td>\n",
       "      <td>0</td>\n",
       "      <td>56</td>\n",
       "      <td>2735</td>\n",
       "      <td>4836</td>\n",
       "      <td>2140</td>\n",
       "      <td>2776</td>\n",
       "      <td>2.0</td>\n",
       "      <td>4.0</td>\n",
       "      <td>4.0</td>\n",
       "      <td>5.0</td>\n",
       "      <td>2.0</td>\n",
       "      <td>0</td>\n",
       "    </tr>\n",
       "    <tr>\n",
       "      <th>3</th>\n",
       "      <td>35601</td>\n",
       "      <td>4</td>\n",
       "      <td>299</td>\n",
       "      <td>1949</td>\n",
       "      <td>1</td>\n",
       "      <td>131</td>\n",
       "      <td>1980</td>\n",
       "      <td>2649</td>\n",
       "      <td>2419</td>\n",
       "      <td>2776</td>\n",
       "      <td>3.0</td>\n",
       "      <td>5.0</td>\n",
       "      <td>4.0</td>\n",
       "      <td>4.0</td>\n",
       "      <td>5.0</td>\n",
       "      <td>0</td>\n",
       "    </tr>\n",
       "    <tr>\n",
       "      <th>4</th>\n",
       "      <td>35466</td>\n",
       "      <td>4</td>\n",
       "      <td>393</td>\n",
       "      <td>1971</td>\n",
       "      <td>0</td>\n",
       "      <td>56</td>\n",
       "      <td>257</td>\n",
       "      <td>155</td>\n",
       "      <td>797</td>\n",
       "      <td>2879</td>\n",
       "      <td>5.0</td>\n",
       "      <td>4.0</td>\n",
       "      <td>5.0</td>\n",
       "      <td>5.0</td>\n",
       "      <td>5.0</td>\n",
       "      <td>0</td>\n",
       "    </tr>\n",
       "  </tbody>\n",
       "</table>\n",
       "</div>"
      ],
      "text/plain": [
       "      ID  Place  location  date  status  job_title  summary  positives  \\\n",
       "0  24788      3       481  2317       0         56     4404       3329   \n",
       "1   6607      0       427  1940       1         56     1102       2779   \n",
       "2  13591      3       427  2068       0         56     2735       4836   \n",
       "3  35601      4       299  1949       1        131     1980       2649   \n",
       "4  35466      4       393  1971       0         56      257        155   \n",
       "\n",
       "   negatives  advice_to_mgmt  score_1  score_2  score_3  score_4  score_5  \\\n",
       "0       4953            2776      3.0      4.0      3.5      2.5      4.0   \n",
       "1       4265            1432      5.0      5.0      5.0      5.0      5.0   \n",
       "2       2140            2776      2.0      4.0      4.0      5.0      2.0   \n",
       "3       2419            2776      3.0      5.0      4.0      4.0      5.0   \n",
       "4        797            2879      5.0      4.0      5.0      5.0      5.0   \n",
       "\n",
       "   score_6  \n",
       "0        3  \n",
       "1        0  \n",
       "2        0  \n",
       "3        0  \n",
       "4        0  "
      ]
     },
     "execution_count": 49,
     "metadata": {},
     "output_type": "execute_result"
    }
   ],
   "source": [
    "test.head()"
   ]
  },
  {
   "cell_type": "code",
   "execution_count": 50,
   "id": "d872ed85",
   "metadata": {},
   "outputs": [
    {
     "data": {
      "text/plain": [
       "<function matplotlib.pyplot.show(close=None, block=None)>"
      ]
     },
     "execution_count": 50,
     "metadata": {},
     "output_type": "execute_result"
    },
    {
     "data": {
      "image/png": "[encoded data removed]",
      "text/plain": [
       "<Figure size 1440x1440 with 2 Axes>"
      ]
     },
     "metadata": {
      "needs_background": "light"
     },
     "output_type": "display_data"
    }
   ],
   "source": [
    "corr=train.corr()\n",
    "plt.subplots(figsize=(20,20))\n",
    "sns.heatmap(corr,vmin=-0.5,vmax=1,annot=True,linewidth=0.2,cmap=\"YlGnBu\")\n",
    "plt.show"
   ]
  },
  {
   "cell_type": "code",
   "execution_count": 51,
   "id": "bfed224f",
   "metadata": {},
   "outputs": [],
   "source": [
    "x=train.drop(['overall'],axis=1)\n",
    "y=train['overall']"
   ]
  },
  {
   "cell_type": "code",
   "execution_count": 52,
   "id": "a1b39ff5",
   "metadata": {},
   "outputs": [],
   "source": [
    "from sklearn.model_selection import train_test_split\n",
    "x_train,x_test,y_train,y_test = train_test_split(x,y,random_state=42,test_size=0.25)"
   ]
  },
  {
   "cell_type": "code",
   "execution_count": 53,
   "id": "eb84a442",
   "metadata": {},
   "outputs": [],
   "source": [
    "from sklearn.metrics import classification_report,f1_score,accuracy_score,confusion_matrix"
   ]
  },
  {
   "cell_type": "markdown",
   "id": "2bcc309d",
   "metadata": {},
   "source": [
    "### Random Forest"
   ]
  },
  {
   "cell_type": "code",
   "execution_count": 61,
   "id": "a95844c2",
   "metadata": {},
   "outputs": [],
   "source": [
    "from sklearn.ensemble import RandomForestClassifier\n",
    "rfc=RandomForestClassifier()\n",
    "rfc_model=rfc.fit(x_train,y_train)\n",
    "rfc_pred=rfc_model.predict(x_test)"
   ]
  },
  {
   "cell_type": "code",
   "execution_count": 64,
   "id": "249e1404",
   "metadata": {},
   "outputs": [
    {
     "data": {
      "text/plain": [
       "array([[  14,   34,   53,   18,    4],\n",
       "       [   5,  137,  441,  154,    8],\n",
       "       [   4,  137,  772,  802,  154],\n",
       "       [   2,   55,  670, 1080,  311],\n",
       "       [   0,    2,  204,  655,  351]], dtype=int64)"
      ]
     },
     "execution_count": 64,
     "metadata": {},
     "output_type": "execute_result"
    }
   ],
   "source": [
    "confusion_matrix(y_test, rfc_pred)"
   ]
  },
  {
   "cell_type": "code",
   "execution_count": 65,
   "id": "0006ebb6",
   "metadata": {},
   "outputs": [
    {
     "data": {
      "text/plain": [
       "38.80006593044338"
      ]
     },
     "execution_count": 65,
     "metadata": {},
     "output_type": "execute_result"
    }
   ],
   "source": [
    "acc_rfc= accuracy_score(y_test, rfc_pred)*100\n",
    "acc_rfc"
   ]
  },
  {
   "cell_type": "code",
   "execution_count": 67,
   "id": "d7f50a2a",
   "metadata": {},
   "outputs": [
    {
     "name": "stdout",
     "output_type": "stream",
     "text": [
      "f1 score is:  0.38800065930443384\n"
     ]
    }
   ],
   "source": [
    "print(\"f1 score is: \",f1_score(y_test, rfc_pred,average='micro'))"
   ]
  },
  {
   "cell_type": "markdown",
   "id": "15725697",
   "metadata": {},
   "source": [
    "### Gaussian Naive Bayes"
   ]
  },
  {
   "cell_type": "code",
   "execution_count": 68,
   "id": "78014f9e",
   "metadata": {},
   "outputs": [],
   "source": [
    "from sklearn.naive_bayes import GaussianNB\n",
    "gnb= GaussianNB()\n",
    "gnb_model= gnb.fit(x_train,y_train)\n",
    "y_pred_gnb= gnb_model.predict(x_test)"
   ]
  },
  {
   "cell_type": "code",
   "execution_count": 70,
   "id": "82b2595a",
   "metadata": {},
   "outputs": [
    {
     "name": "stdout",
     "output_type": "stream",
     "text": [
      "f1 score is:  0.38800065930443384\n"
     ]
    }
   ],
   "source": [
    "print(\"f1 score is: \",f1_score(y_test, rfc_pred,average='micro'))"
   ]
  },
  {
   "cell_type": "code",
   "execution_count": 71,
   "id": "e3e93325",
   "metadata": {},
   "outputs": [],
   "source": [
    "predict=rfc_model.predict(test)"
   ]
  },
  {
   "cell_type": "code",
   "execution_count": 72,
   "id": "ae205c1e",
   "metadata": {},
   "outputs": [
    {
     "data": {
      "text/plain": [
       "array([4., 4., 3., ..., 4., 4., 4.])"
      ]
     },
     "execution_count": 72,
     "metadata": {},
     "output_type": "execute_result"
    }
   ],
   "source": [
    "predict"
   ]
  },
  {
   "cell_type": "code",
   "execution_count": 73,
   "id": "a7f291e4",
   "metadata": {},
   "outputs": [],
   "source": [
    "predict1=pd.DataFrame([test['ID'],predict])"
   ]
  },
  {
   "cell_type": "code",
   "execution_count": 74,
   "id": "03670fbc",
   "metadata": {},
   "outputs": [
    {
     "data": {
      "text/html": [
       "<div>\n",
       "<style scoped>\n",
       "    .dataframe tbody tr th:only-of-type {\n",
       "        vertical-align: middle;\n",
       "    }\n",
       "\n",
       "    .dataframe tbody tr th {\n",
       "        vertical-align: top;\n",
       "    }\n",
       "\n",
       "    .dataframe thead th {\n",
       "        text-align: right;\n",
       "    }\n",
       "</style>\n",
       "<table border=\"1\" class=\"dataframe\">\n",
       "  <thead>\n",
       "    <tr style=\"text-align: right;\">\n",
       "      <th></th>\n",
       "      <th>0</th>\n",
       "      <th>1</th>\n",
       "      <th>2</th>\n",
       "      <th>3</th>\n",
       "      <th>4</th>\n",
       "      <th>5</th>\n",
       "      <th>6</th>\n",
       "      <th>7</th>\n",
       "      <th>8</th>\n",
       "      <th>9</th>\n",
       "      <th>...</th>\n",
       "      <th>6058</th>\n",
       "      <th>6059</th>\n",
       "      <th>6060</th>\n",
       "      <th>6061</th>\n",
       "      <th>6062</th>\n",
       "      <th>6063</th>\n",
       "      <th>6064</th>\n",
       "      <th>6065</th>\n",
       "      <th>6066</th>\n",
       "      <th>6067</th>\n",
       "    </tr>\n",
       "  </thead>\n",
       "  <tbody>\n",
       "    <tr>\n",
       "      <th>ID</th>\n",
       "      <td>24788.0</td>\n",
       "      <td>6607.0</td>\n",
       "      <td>13591.0</td>\n",
       "      <td>35601.0</td>\n",
       "      <td>35466.0</td>\n",
       "      <td>40599.0</td>\n",
       "      <td>19101.0</td>\n",
       "      <td>24235.0</td>\n",
       "      <td>3482.0</td>\n",
       "      <td>6960.0</td>\n",
       "      <td>...</td>\n",
       "      <td>9864.0</td>\n",
       "      <td>18173.0</td>\n",
       "      <td>59813.0</td>\n",
       "      <td>56228.0</td>\n",
       "      <td>6727.0</td>\n",
       "      <td>7202.0</td>\n",
       "      <td>42589.0</td>\n",
       "      <td>40828.0</td>\n",
       "      <td>20392.0</td>\n",
       "      <td>29140.0</td>\n",
       "    </tr>\n",
       "    <tr>\n",
       "      <th>Unnamed 0</th>\n",
       "      <td>4.0</td>\n",
       "      <td>4.0</td>\n",
       "      <td>3.0</td>\n",
       "      <td>4.0</td>\n",
       "      <td>5.0</td>\n",
       "      <td>4.0</td>\n",
       "      <td>4.0</td>\n",
       "      <td>5.0</td>\n",
       "      <td>4.0</td>\n",
       "      <td>4.0</td>\n",
       "      <td>...</td>\n",
       "      <td>4.0</td>\n",
       "      <td>5.0</td>\n",
       "      <td>3.0</td>\n",
       "      <td>4.0</td>\n",
       "      <td>4.0</td>\n",
       "      <td>4.0</td>\n",
       "      <td>5.0</td>\n",
       "      <td>4.0</td>\n",
       "      <td>4.0</td>\n",
       "      <td>4.0</td>\n",
       "    </tr>\n",
       "  </tbody>\n",
       "</table>\n",
       "<p>2 rows × 6068 columns</p>\n",
       "</div>"
      ],
      "text/plain": [
       "              0       1        2        3        4        5        6     \\\n",
       "ID         24788.0  6607.0  13591.0  35601.0  35466.0  40599.0  19101.0   \n",
       "Unnamed 0      4.0     4.0      3.0      4.0      5.0      4.0      4.0   \n",
       "\n",
       "              7       8       9     ...    6058     6059     6060     6061  \\\n",
       "ID         24235.0  3482.0  6960.0  ...  9864.0  18173.0  59813.0  56228.0   \n",
       "Unnamed 0      5.0     4.0     4.0  ...     4.0      5.0      3.0      4.0   \n",
       "\n",
       "             6062    6063     6064     6065     6066     6067  \n",
       "ID         6727.0  7202.0  42589.0  40828.0  20392.0  29140.0  \n",
       "Unnamed 0     4.0     4.0      5.0      4.0      4.0      4.0  \n",
       "\n",
       "[2 rows x 6068 columns]"
      ]
     },
     "execution_count": 74,
     "metadata": {},
     "output_type": "execute_result"
    }
   ],
   "source": [
    "predict1"
   ]
  },
  {
   "cell_type": "code",
   "execution_count": 75,
   "id": "9b32c105",
   "metadata": {},
   "outputs": [
    {
     "data": {
      "text/html": [
       "<div>\n",
       "<style scoped>\n",
       "    .dataframe tbody tr th:only-of-type {\n",
       "        vertical-align: middle;\n",
       "    }\n",
       "\n",
       "    .dataframe tbody tr th {\n",
       "        vertical-align: top;\n",
       "    }\n",
       "\n",
       "    .dataframe thead th {\n",
       "        text-align: right;\n",
       "    }\n",
       "</style>\n",
       "<table border=\"1\" class=\"dataframe\">\n",
       "  <thead>\n",
       "    <tr style=\"text-align: right;\">\n",
       "      <th></th>\n",
       "      <th>ID</th>\n",
       "      <th>Unnamed 0</th>\n",
       "    </tr>\n",
       "  </thead>\n",
       "  <tbody>\n",
       "    <tr>\n",
       "      <th>0</th>\n",
       "      <td>24788.0</td>\n",
       "      <td>4.0</td>\n",
       "    </tr>\n",
       "    <tr>\n",
       "      <th>1</th>\n",
       "      <td>6607.0</td>\n",
       "      <td>4.0</td>\n",
       "    </tr>\n",
       "    <tr>\n",
       "      <th>2</th>\n",
       "      <td>13591.0</td>\n",
       "      <td>3.0</td>\n",
       "    </tr>\n",
       "    <tr>\n",
       "      <th>3</th>\n",
       "      <td>35601.0</td>\n",
       "      <td>4.0</td>\n",
       "    </tr>\n",
       "    <tr>\n",
       "      <th>4</th>\n",
       "      <td>35466.0</td>\n",
       "      <td>5.0</td>\n",
       "    </tr>\n",
       "    <tr>\n",
       "      <th>...</th>\n",
       "      <td>...</td>\n",
       "      <td>...</td>\n",
       "    </tr>\n",
       "    <tr>\n",
       "      <th>6063</th>\n",
       "      <td>7202.0</td>\n",
       "      <td>4.0</td>\n",
       "    </tr>\n",
       "    <tr>\n",
       "      <th>6064</th>\n",
       "      <td>42589.0</td>\n",
       "      <td>5.0</td>\n",
       "    </tr>\n",
       "    <tr>\n",
       "      <th>6065</th>\n",
       "      <td>40828.0</td>\n",
       "      <td>4.0</td>\n",
       "    </tr>\n",
       "    <tr>\n",
       "      <th>6066</th>\n",
       "      <td>20392.0</td>\n",
       "      <td>4.0</td>\n",
       "    </tr>\n",
       "    <tr>\n",
       "      <th>6067</th>\n",
       "      <td>29140.0</td>\n",
       "      <td>4.0</td>\n",
       "    </tr>\n",
       "  </tbody>\n",
       "</table>\n",
       "<p>6068 rows × 2 columns</p>\n",
       "</div>"
      ],
      "text/plain": [
       "           ID  Unnamed 0\n",
       "0     24788.0        4.0\n",
       "1      6607.0        4.0\n",
       "2     13591.0        3.0\n",
       "3     35601.0        4.0\n",
       "4     35466.0        5.0\n",
       "...       ...        ...\n",
       "6063   7202.0        4.0\n",
       "6064  42589.0        5.0\n",
       "6065  40828.0        4.0\n",
       "6066  20392.0        4.0\n",
       "6067  29140.0        4.0\n",
       "\n",
       "[6068 rows x 2 columns]"
      ]
     },
     "execution_count": 75,
     "metadata": {},
     "output_type": "execute_result"
    }
   ],
   "source": [
    "predict1=predict1.transpose()\n",
    "predict1"
   ]
  },
  {
   "cell_type": "code",
   "execution_count": 78,
   "id": "6801f942",
   "metadata": {},
   "outputs": [],
   "source": [
    "predict1.rename(columns={'Unnamed 0': 'overall'}, inplace=True)"
   ]
  },
  {
   "cell_type": "code",
   "execution_count": 79,
   "id": "13f8a3d3",
   "metadata": {},
   "outputs": [
    {
     "data": {
      "text/plain": [
       "4.0    3434\n",
       "3.0    1517\n",
       "5.0     847\n",
       "2.0     252\n",
       "1.0      18\n",
       "Name: overall, dtype: int64"
      ]
     },
     "execution_count": 79,
     "metadata": {},
     "output_type": "execute_result"
    }
   ],
   "source": [
    "predict1['overall'].value_counts()"
   ]
  },
  {
   "cell_type": "code",
   "execution_count": null,
   "id": "e8c37145",
   "metadata": {},
   "outputs": [],
   "source": []
  }
 ],
 "metadata": {
  "kernelspec": {
   "display_name": "Python 3 (ipykernel)",
   "language": "python",
   "name": "python3"
  },
  "language_info": {
   "codemirror_mode": {
    "name": "ipython",
    "version": 3
   },
   "file_extension": ".py",
   "mimetype": "text/x-python",
   "name": "python",
   "nbconvert_exporter": "python",
   "pygments_lexer": "ipython3",
   "version": "3.9.12"
  }
 },
 "nbformat": 4,
 "nbformat_minor": 5
}
